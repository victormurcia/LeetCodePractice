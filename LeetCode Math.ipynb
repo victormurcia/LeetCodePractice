{
 "cells": [
  {
   "cell_type": "markdown",
   "id": "3234b5e7",
   "metadata": {},
   "source": [
    "# LeetCode Practice Questions Math"
   ]
  },
  {
   "cell_type": "code",
   "execution_count": 24,
   "id": "9dc0fea8",
   "metadata": {},
   "outputs": [
    {
     "data": {
      "text/plain": [
       "[8, 0, 7]"
      ]
     },
     "execution_count": 24,
     "metadata": {},
     "output_type": "execute_result"
    }
   ],
   "source": [
    "def addTwoNumbers(l1,l2):\n",
    "    l1.reverse();l2.reverse()\n",
    "    result = []\n",
    "    for i,val in enumerate(l1):\n",
    "        res = val + l2[i]\n",
    "        if res > 9:\n",
    "            result[i-1] +=1\n",
    "            result.append(0)\n",
    "        else:\n",
    "            result.append(res)\n",
    "    return result\n",
    "l1 = [2,4,3] ; l2 = [5,6,4]\n",
    "addTwoNumbers(l1,l2)"
   ]
  },
  {
   "cell_type": "code",
   "execution_count": 25,
   "id": "8b40d692",
   "metadata": {},
   "outputs": [
    {
     "data": {
      "text/plain": [
       "True"
      ]
     },
     "execution_count": 25,
     "metadata": {},
     "output_type": "execute_result"
    }
   ],
   "source": [
    "#9. Palindrome Number\n",
    "x = 121\n",
    "def pal_number(x):\n",
    "    return str(x) == str(x)[::-1]\n",
    "pal_number(x)"
   ]
  },
  {
   "cell_type": "code",
   "execution_count": 31,
   "id": "7119669c",
   "metadata": {},
   "outputs": [
    {
     "name": "stdout",
     "output_type": "stream",
     "text": [
      "0 0\n",
      "1 1\n",
      "2 2\n",
      "3 3\n",
      "{0: 3, 1: 4, 2: 5, 3: 6}\n"
     ]
    }
   ],
   "source": [
    "v1 = [1,2];v2 = [3,4,5,6]\n",
    "def zigzag(v1,v2):\n",
    "    v1_dict = {};v2_dict = {}\n",
    "    for i,val in enumerate(v1):\n",
    "        v1_dict[i] = val\n",
    "    for i,val in enumerate(v2):\n",
    "        v2_dict[i] = val\n",
    "    #Map values to key in dictionary\n",
    "    if len(v1) >= len(v2):\n",
    "        v_dict = v1_dict\n",
    "    else:\n",
    "        v_dict = v2_dict\n",
    "    comb_dict = {}\n",
    "    for i, k in enumerate(v_dict):\n",
    "        comb_dict[k] = \n",
    "        print(i, k)\n",
    "    print(v2_dict)\n",
    "zigzag(v1,v2)"
   ]
  },
  {
   "cell_type": "code",
   "execution_count": null,
   "id": "1bdd73b1",
   "metadata": {},
   "outputs": [],
   "source": []
  }
 ],
 "metadata": {
  "kernelspec": {
   "display_name": "Python [conda env:root] *",
   "language": "python",
   "name": "conda-root-py"
  },
  "language_info": {
   "codemirror_mode": {
    "name": "ipython",
    "version": 3
   },
   "file_extension": ".py",
   "mimetype": "text/x-python",
   "name": "python",
   "nbconvert_exporter": "python",
   "pygments_lexer": "ipython3",
   "version": "3.7.13"
  }
 },
 "nbformat": 4,
 "nbformat_minor": 5
}
