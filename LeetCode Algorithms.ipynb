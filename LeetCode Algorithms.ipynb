{
 "cells": [
  {
   "cell_type": "markdown",
   "id": "560de3d3",
   "metadata": {},
   "source": [
    "# LeetCode Interview Questions Algorithms "
   ]
  },
  {
   "cell_type": "markdown",
   "id": "360efb5d",
   "metadata": {},
   "source": [
    "704. Binary Search\n",
    "Given an array of integers nums which is sorted in ascending order, and an integer target, write a function to search target in nums. If target exists, then return its index. Otherwise, return -1.\n",
    "\n",
    "You must write an algorithm with O(log n) runtime complexity."
   ]
  },
  {
   "cell_type": "code",
   "execution_count": 3,
   "id": "d1666c51",
   "metadata": {},
   "outputs": [
    {
     "data": {
      "text/plain": [
       "4"
      ]
     },
     "execution_count": 3,
     "metadata": {},
     "output_type": "execute_result"
    }
   ],
   "source": [
    " def binary_search(nums,target) -> int:\n",
    "    left=0\n",
    "    right=len(nums)-1\n",
    "    while(left<= right):\n",
    "        mid=(left+right)//2\n",
    "        if nums[mid]==target:\n",
    "            return mid\n",
    "        elif nums[mid] < target:\n",
    "             left=mid+1\n",
    "        else:\n",
    "            right=mid-1\n",
    "    return -1\n",
    "nums = [-1,0,3,5,9,12]; target = 9\n",
    "binary_search(nums,target) "
   ]
  },
  {
   "cell_type": "markdown",
   "id": "da5136d5",
   "metadata": {},
   "source": [
    "374. Guess Number Higher or Lower\n",
    "We are playing the Guess Game. The game is as follows:\n",
    "\n",
    "I pick a number from 1 to n. You have to guess which number I picked.\n",
    "\n",
    "Every time you guess wrong, I will tell you whether the number I picked is higher or lower than your guess.\n",
    "\n",
    "You call a pre-defined API int guess(int num), which returns three possible results:\n",
    "\n",
    "    -1: Your guess is higher than the number I picked (i.e. num > pick).\n",
    "    1: Your guess is lower than the number I picked (i.e. num < pick).\n",
    "    0: your guess is equal to the number I picked (i.e. num == pick).\n",
    "\n",
    "Return the number that I picked."
   ]
  },
  {
   "cell_type": "code",
   "execution_count": 4,
   "id": "4c2b1a51",
   "metadata": {},
   "outputs": [],
   "source": [
    "# The guess API is already defined for you.\n",
    "# @param num, your guess\n",
    "# @return -1 if num is higher than the picked number\n",
    "#          1 if num is lower than the picked number\n",
    "#          otherwise return 0\n",
    "# def guess(num: int) -> int:\n",
    "\n",
    "class Solution:\n",
    "    def guessNumber(self, n: int) -> int:\n",
    "        low = 0\n",
    "        high = n\n",
    "        while low <= high:\n",
    "            mid = (low + high ) // 2\n",
    "            res = guess(mid)\n",
    "            if res < 0:\n",
    "                high = mid - 1\n",
    "\n",
    "            elif res > 0:\n",
    "                low = mid + 1\n",
    "\n",
    "            else:\n",
    "                return mid"
   ]
  },
  {
   "cell_type": "code",
   "execution_count": null,
   "id": "ee8b943f",
   "metadata": {},
   "outputs": [],
   "source": []
  }
 ],
 "metadata": {
  "kernelspec": {
   "display_name": "Python [conda env:root] *",
   "language": "python",
   "name": "conda-root-py"
  },
  "language_info": {
   "codemirror_mode": {
    "name": "ipython",
    "version": 3
   },
   "file_extension": ".py",
   "mimetype": "text/x-python",
   "name": "python",
   "nbconvert_exporter": "python",
   "pygments_lexer": "ipython3",
   "version": "3.7.13"
  }
 },
 "nbformat": 4,
 "nbformat_minor": 5
}
