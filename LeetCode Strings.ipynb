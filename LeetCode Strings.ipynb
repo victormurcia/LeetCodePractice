{
 "cells": [
  {
   "cell_type": "markdown",
   "id": "14d03c91",
   "metadata": {},
   "source": [
    "# Coding Interview Questions from LeetCode\n",
    "\n",
    "## Part 1. String Questions"
   ]
  },
  {
   "cell_type": "code",
   "execution_count": 35,
   "id": "c6c76f84",
   "metadata": {},
   "outputs": [],
   "source": [
    "import re\n",
    "import random\n",
    "import string "
   ]
  },
  {
   "cell_type": "code",
   "execution_count": 55,
   "id": "95137030",
   "metadata": {},
   "outputs": [
    {
     "data": {
      "text/plain": [
       "'ltcdscmmntyfrcdrs'"
      ]
     },
     "execution_count": 55,
     "metadata": {},
     "output_type": "execute_result"
    }
   ],
   "source": [
    "#Remove Vowels from a String \n",
    "def removeVowels(s):\n",
    "    return re.sub('[aeiou]', '', s)\n",
    "s = \"leetcodeisacommunityforcoders\"\n",
    "removeVowels(s) "
   ]
  },
  {
   "cell_type": "code",
   "execution_count": 54,
   "id": "23217171",
   "metadata": {},
   "outputs": [
    {
     "data": {
      "text/plain": [
       "'1[.]1[.]1[.]1'"
      ]
     },
     "execution_count": 54,
     "metadata": {},
     "output_type": "execute_result"
    }
   ],
   "source": [
    "#Defanging an IP Address\n",
    "def defangIPA(address):\n",
    "    return address.replace(\".\",\"[.]\")\n",
    "\n",
    "address = \"1.1.1.1\"\n",
    "defangIPA(address)"
   ]
  },
  {
   "cell_type": "code",
   "execution_count": 53,
   "id": "3c7047b4",
   "metadata": {},
   "outputs": [
    {
     "data": {
      "text/plain": [
       "'leotcede'"
      ]
     },
     "execution_count": 53,
     "metadata": {},
     "output_type": "execute_result"
    }
   ],
   "source": [
    "#Given a string s, reverse only all the vowels in the string and return it.\n",
    "def reverseVowels(s):\n",
    "    #Convert string to a list\n",
    "    s = list(s)\n",
    "    #Get list of vowels in string in reverse order\n",
    "    vowels_in_s = [x for x, in s if x in 'aeiouAEIOU'][::-1]\n",
    "    #Get index of vowels\n",
    "    index_of_vs = [x for x, element in enumerate(s) if element in 'aeiouAEIOU']\n",
    "    \n",
    "    #Make string into list and replace characters using results from above\n",
    "    i = 0\n",
    "    for index in index_of_vs:\n",
    "        s[index] = vowels_in_s[i]\n",
    "        i+=1\n",
    "        \n",
    "    #Convert list into string with vowels reversed\n",
    "    return ''.join(s)\n",
    "s = 'leetcode'\n",
    "reverseVowels(s)"
   ]
  },
  {
   "cell_type": "code",
   "execution_count": 5,
   "id": "e98d16a6",
   "metadata": {},
   "outputs": [
    {
     "name": "stdout",
     "output_type": "stream",
     "text": [
      "edocteel\n"
     ]
    }
   ],
   "source": [
    "#Reverse string I\n",
    "def reverseString(s):\n",
    "    \"\"\"\n",
    "    Do not return anything, modify s in-place instead.\n",
    "    \"\"\"\n",
    "    s = s[::-1]\n",
    "    print(s)\n",
    "    \n",
    "s = 'leetcode'   \n",
    "reverseString(s)"
   ]
  },
  {
   "cell_type": "code",
   "execution_count": 52,
   "id": "0b51ee69",
   "metadata": {},
   "outputs": [
    {
     "data": {
      "text/plain": [
       "'bacdfeg'"
      ]
     },
     "execution_count": 52,
     "metadata": {},
     "output_type": "execute_result"
    }
   ],
   "source": [
    "#Reverse String II\n",
    "\n",
    "#Given a string s and an integer k, reverse the first k characters for every 2k characters counting from \n",
    "#the start of the string.\n",
    "#If there are fewer than k characters left, reverse all of them. If there are less than 2k but greater \n",
    "#than or equal to k characters, then reverse the first k characters and leave the other as original.\n",
    "\n",
    "def reverseStr(s,k):\n",
    "    rs, d = \"\", 1\n",
    "    for i in range(0, len(s), k):\n",
    "        d = -d\n",
    "        #output += s[i:i+k][::(d := -d)] requires Python 3.8 or above for := assigment operator!!\n",
    "        rs += s[i:i+k][::d]\n",
    "    return rs\n",
    "s = \"abcdefg\" ; k = 2\n",
    "reverseStr(s,k)"
   ]
  },
  {
   "cell_type": "code",
   "execution_count": 50,
   "id": "43c689e3",
   "metadata": {},
   "outputs": [
    {
     "data": {
      "text/plain": [
       "\"s'teL ekat edoCteeL tsetnoc\""
      ]
     },
     "execution_count": 50,
     "metadata": {},
     "output_type": "execute_result"
    }
   ],
   "source": [
    "#Reverse Words in a String III\n",
    "#Given a string s, reverse the order of characters in each word within a sentence while still preserving \n",
    "#whitespace and initial word order.\n",
    "def reverseWords(s):\n",
    "    s = s.split(\" \")\n",
    "    new = [x[::-1] for x in s]\n",
    "    new = \" \".join(new)\n",
    "    return new \n",
    "s = \"Let's take LeetCode contest\"\n",
    "reverseWords(s)"
   ]
  },
  {
   "cell_type": "code",
   "execution_count": 49,
   "id": "1781db4a",
   "metadata": {},
   "outputs": [
    {
     "data": {
      "text/plain": [
       "'aaab'"
      ]
     },
     "execution_count": 49,
     "metadata": {},
     "output_type": "execute_result"
    }
   ],
   "source": [
    "#Generate a String With Characters That Have Odd Counts\n",
    "#Given an integer n, return a string with n characters such that each character in such string occurs \n",
    "#an odd number of times.\n",
    "\n",
    "#The returned string must contain only lowercase English letters. If there are multiples valid strings, \n",
    "#return any of them.  \n",
    "n = 4\n",
    "def generateTheString(n):\n",
    "    return \"a\" * n if n % 2 else \"a\" * (n - 1) + \"b\"\n",
    "generateTheString(n)"
   ]
  },
  {
   "cell_type": "code",
   "execution_count": 66,
   "id": "6b68d970",
   "metadata": {},
   "outputs": [
    {
     "data": {
      "text/plain": [
       "2"
      ]
     },
     "execution_count": 66,
     "metadata": {},
     "output_type": "execute_result"
    }
   ],
   "source": [
    "#Count Vowel Substrings of a String\n",
    "#A substring is a contiguous (non-empty) sequence of characters within a string.\n",
    "#A vowel substring is a substring that only consists of vowels ('a', 'e', 'i', 'o', and 'u') and has all \n",
    "#five vowels present in it.\n",
    "#Given a string word, return the number of vowel substrings in word.\n",
    "word = \"aeiouu\"\n",
    "def countVowelSubstrings(word):\n",
    "    v='aeiou'\n",
    "    count=0\n",
    "    for i in range(len(word)):\n",
    "        s=set()\n",
    "        if word[i] in v:\n",
    "            for j in range(i,len(word)):\n",
    "                if word[j] not in v:\n",
    "                    break\n",
    "                s.add(word[j])\n",
    "                if len(s)==5:\n",
    "                    count+=1\n",
    "    return count\n",
    "countVowelSubstrings(word)"
   ]
  },
  {
   "cell_type": "code",
   "execution_count": 67,
   "id": "58218148",
   "metadata": {},
   "outputs": [
    {
     "name": "stdout",
     "output_type": "stream",
     "text": [
      "-\n",
      "+\n"
     ]
    }
   ],
   "source": [
    "#Final Value of Variable After Performing Operations\n",
    "#There is a programming language with only four operations and one variable X:\n",
    "\n",
    "#    ++X and X++ increments the value of the variable X by 1.\n",
    "#    --X and X-- decrements the value of the variable X by 1.\n",
    "\n",
    "#Initially, the value of X is 0.\n",
    "\n",
    "#Given an array of strings operations containing a list of operations, return the final value of X \n",
    "#after performing all the operations.    \n",
    "def finalValueAfterOperations(self, operations: List[str]) -> int:\n",
    "    op_dict = {\"-\" : -1, \"+\":1}\n",
    "    return sum(op_dict[op[1]] for op in operations)"
   ]
  },
  {
   "cell_type": "code",
   "execution_count": null,
   "id": "4e05dae5",
   "metadata": {},
   "outputs": [],
   "source": []
  }
 ],
 "metadata": {
  "kernelspec": {
   "display_name": "Python [conda env:root] *",
   "language": "python",
   "name": "conda-root-py"
  },
  "language_info": {
   "codemirror_mode": {
    "name": "ipython",
    "version": 3
   },
   "file_extension": ".py",
   "mimetype": "text/x-python",
   "name": "python",
   "nbconvert_exporter": "python",
   "pygments_lexer": "ipython3",
   "version": "3.7.13"
  }
 },
 "nbformat": 4,
 "nbformat_minor": 5
}
