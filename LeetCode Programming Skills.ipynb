{
 "cells": [
  {
   "cell_type": "markdown",
   "id": "8ba40c9d",
   "metadata": {},
   "source": [
    "# LeetCode Interview Questions Programming Skills"
   ]
  },
  {
   "cell_type": "markdown",
   "id": "3d301aba",
   "metadata": {},
   "source": [
    "1491. Average Salary Excluding the Minimum and Maximum Salary\n",
    "\n",
    "You are given an array of unique integers salary where salary[i] is the salary of the ith employee.\n",
    "\n",
    "Return the average salary of employees excluding the minimum and maximum salary. "
   ]
  },
  {
   "cell_type": "code",
   "execution_count": 2,
   "id": "eb4af4b7",
   "metadata": {},
   "outputs": [
    {
     "data": {
      "text/plain": [
       "2500.0"
      ]
     },
     "execution_count": 2,
     "metadata": {},
     "output_type": "execute_result"
    }
   ],
   "source": [
    "salary = [4000,3000,1000,2000]\n",
    "def average(salary):\n",
    "    salary = sorted(salary)\n",
    "    return sum(salary[1:len(salary)-1])/(len(salary)-2)\n",
    "average(salary)"
   ]
  },
  {
   "cell_type": "markdown",
   "id": "4609dd02",
   "metadata": {},
   "source": [
    "1523. Count Odd Numbers in an Interval Range\n",
    "\n",
    "Given two non-negative integers low and high. Return the count of odd numbers between low and high (inclusive)."
   ]
  },
  {
   "cell_type": "code",
   "execution_count": 3,
   "id": "770e9c94",
   "metadata": {},
   "outputs": [
    {
     "data": {
      "text/plain": [
       "3"
      ]
     },
     "execution_count": 3,
     "metadata": {},
     "output_type": "execute_result"
    }
   ],
   "source": [
    "def countOdds(low, high):\n",
    "    #Difference between both entries. The +1 is there to ensure that result is inclusive\n",
    "    diff = high - low + 1\n",
    "    #Use modulo to determine whether inputs are both even. This will determine how to modify counts \n",
    "    if(low % 2 != 0 and high %2 != 0):\n",
    "        n_odds = diff // 2 + 1\n",
    "    else:\n",
    "        n_odds = diff//2\n",
    "    return n_odds\n",
    "low = 3; high = 7\n",
    "countOdds(low, high)"
   ]
  },
  {
   "cell_type": "code",
   "execution_count": null,
   "id": "c9dca61a",
   "metadata": {},
   "outputs": [],
   "source": []
  }
 ],
 "metadata": {
  "kernelspec": {
   "display_name": "Python [conda env:root] *",
   "language": "python",
   "name": "conda-root-py"
  },
  "language_info": {
   "codemirror_mode": {
    "name": "ipython",
    "version": 3
   },
   "file_extension": ".py",
   "mimetype": "text/x-python",
   "name": "python",
   "nbconvert_exporter": "python",
   "pygments_lexer": "ipython3",
   "version": "3.7.13"
  }
 },
 "nbformat": 4,
 "nbformat_minor": 5
}
