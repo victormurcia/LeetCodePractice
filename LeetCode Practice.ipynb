{
 "cells": [
  {
   "cell_type": "markdown",
   "id": "14d03c91",
   "metadata": {},
   "source": [
    "# Coding Interview Questions from LeetCode\n",
    "\n",
    "## Part 1. String Questions"
   ]
  },
  {
   "cell_type": "code",
   "execution_count": 1,
   "id": "c6c76f84",
   "metadata": {},
   "outputs": [],
   "source": [
    "import re"
   ]
  },
  {
   "cell_type": "code",
   "execution_count": 2,
   "id": "95137030",
   "metadata": {},
   "outputs": [
    {
     "data": {
      "text/plain": [
       "'ltcdscmmntyfrcdrs'"
      ]
     },
     "execution_count": 2,
     "metadata": {},
     "output_type": "execute_result"
    }
   ],
   "source": [
    "#Remove Vowels from a String \n",
    "def removeVowels(s):\n",
    "    return re.sub('[aeiou]', '', s)\n",
    "s = \"leetcodeisacommunityforcoders\"\n",
    "no_vowels = removeVowels(s) \n",
    "no_vowels"
   ]
  },
  {
   "cell_type": "code",
   "execution_count": 3,
   "id": "23217171",
   "metadata": {},
   "outputs": [
    {
     "data": {
      "text/plain": [
       "'1[.]1[.]1[.]1'"
      ]
     },
     "execution_count": 3,
     "metadata": {},
     "output_type": "execute_result"
    }
   ],
   "source": [
    "#Defanging an IP Address\n",
    "def defangIPA(address):\n",
    "    return address.replace(\".\",\"[.]\")\n",
    "\n",
    "address = \"1.1.1.1\"\n",
    "defanged = defangIPA(address)\n",
    "defanged"
   ]
  },
  {
   "cell_type": "code",
   "execution_count": 4,
   "id": "3c7047b4",
   "metadata": {},
   "outputs": [
    {
     "data": {
      "text/plain": [
       "'leotcede'"
      ]
     },
     "execution_count": 4,
     "metadata": {},
     "output_type": "execute_result"
    }
   ],
   "source": [
    "#Given a string s, reverse only all the vowels in the string and return it.\n",
    "def reverseVowels(s):\n",
    "    #Convert string to a list\n",
    "    s = list(s)\n",
    "    #Get list of vowels in string in reverse order\n",
    "    vowels_in_s = [x for x, in s if x in 'aeiouAEIOU'][::-1]\n",
    "    #Get index of vowels\n",
    "    index_of_vs = [x for x, element in enumerate(s) if element in 'aeiouAEIOU']\n",
    "    \n",
    "    #Make string into list and replace characters using results from above\n",
    "    i = 0\n",
    "    for index in index_of_vs:\n",
    "        s[index] = vowels_in_s[i]\n",
    "        i+=1\n",
    "        \n",
    "    #Convert list into string with vowels reversed\n",
    "    return ''.join(s)\n",
    "s = 'leetcode'\n",
    "t = reverseVowels(s)\n",
    "t"
   ]
  },
  {
   "cell_type": "code",
   "execution_count": 5,
   "id": "e98d16a6",
   "metadata": {},
   "outputs": [
    {
     "name": "stdout",
     "output_type": "stream",
     "text": [
      "edocteel\n"
     ]
    }
   ],
   "source": [
    "#Reverse string I\n",
    "def reverseString(s):\n",
    "    \"\"\"\n",
    "    Do not return anything, modify s in-place instead.\n",
    "    \"\"\"\n",
    "    s = s[::-1]\n",
    "    print(s)\n",
    "    \n",
    "s = 'leetcode'   \n",
    "reverseString(s)"
   ]
  },
  {
   "cell_type": "code",
   "execution_count": 24,
   "id": "0b51ee69",
   "metadata": {},
   "outputs": [
    {
     "name": "stdout",
     "output_type": "stream",
     "text": [
      "bacdfeg\n"
     ]
    }
   ],
   "source": [
    "#Reverse String II\n",
    "\n",
    "#Given a string s and an integer k, reverse the first k characters for every 2k characters counting from \n",
    "#the start of the string.\n",
    "#If there are fewer than k characters left, reverse all of them. If there are less than 2k but greater \n",
    "#than or equal to k characters, then reverse the first k characters and leave the other as original.\n",
    "\n",
    "def reverseStr(s,k):\n",
    "    rs, d = \"\", 1\n",
    "    for i in range(0, len(s), k):\n",
    "        d = -d\n",
    "        #output += s[i:i+k][::(d := -d)] requires Python 3.8 or above for := assigment operator!!\n",
    "        rs += s[i:i+k][::(d)]\n",
    "    print(rs)\n",
    "    return rs\n",
    "s = \"abcdefg\" ; k = 2\n",
    "o = reverseStr(s,k)"
   ]
  },
  {
   "cell_type": "code",
   "execution_count": 32,
   "id": "43c689e3",
   "metadata": {},
   "outputs": [
    {
     "name": "stdout",
     "output_type": "stream",
     "text": [
      "s'teL ekat edoCteeL tsetnoc\n"
     ]
    }
   ],
   "source": [
    "#Reverse Words in a String III\n",
    "#Given a string s, reverse the order of characters in each word within a sentence while still preserving \n",
    "#whitespace and initial word order.\n",
    "def reverseWords(s):\n",
    "    s = s.split(\" \")\n",
    "    new = [x[::-1] for x in s]\n",
    "    new = \" \".join(new)\n",
    "    return new \n",
    "s = \"Let's take LeetCode contest\"\n",
    "new = reverseWords(s)\n",
    "print(new)"
   ]
  },
  {
   "cell_type": "code",
   "execution_count": null,
   "id": "1781db4a",
   "metadata": {},
   "outputs": [],
   "source": []
  }
 ],
 "metadata": {
  "kernelspec": {
   "display_name": "Python [conda env:root] *",
   "language": "python",
   "name": "conda-root-py"
  },
  "language_info": {
   "codemirror_mode": {
    "name": "ipython",
    "version": 3
   },
   "file_extension": ".py",
   "mimetype": "text/x-python",
   "name": "python",
   "nbconvert_exporter": "python",
   "pygments_lexer": "ipython3",
   "version": "3.7.13"
  }
 },
 "nbformat": 4,
 "nbformat_minor": 5
}
